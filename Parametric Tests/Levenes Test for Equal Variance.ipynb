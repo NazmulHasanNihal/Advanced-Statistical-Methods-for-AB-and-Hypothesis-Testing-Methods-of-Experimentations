{
 "cells": [
  {
   "cell_type": "markdown",
   "id": "be720fff",
   "metadata": {},
   "source": [
    "# **Levene's Test for Equal Variance (Homogeneity of Variance)**"
   ]
  },
  {
   "cell_type": "markdown",
   "id": "7cfc8115",
   "metadata": {},
   "source": [
    "Levene's test is used to check the assumption of equal variances (also known as homogeneity of variances) across different groups or samples. This assumption is important for many statistical tests, such as ANOVA and t-tests, which require that the variability within each group being compared is similar. When variances are unequal (heteroscedasticity), it can lead to incorrect conclusions in statistical tests.\n",
    "\n",
    "- The primary purpose of Levene’s test is to ensure that the assumption of equal variances holds before applying statistical tests that rely on this assumption (like One-Way ANOVA and t-test) and comparing more than two groups if the groups have similar variance\n",
    "\n",
    "- Levene’s test is particularly useful when comparing more than two groups, and you want to verify if the groups have similar variances."
   ]
  },
  {
   "cell_type": "markdown",
   "id": "5f430e66",
   "metadata": {},
   "source": [
    "## State the Hypotheses"
   ]
  },
  {
   "cell_type": "markdown",
   "id": "4e948e2a",
   "metadata": {},
   "source": [
    "- **Null Hypothesis (H₀):** The variances of the groups are equal (homogeneity of variances).\n",
    "\n",
    "- **Alternative Hypothesis (H₁):** The variances of the groups are not equal (heterogeneity of variances)."
   ]
  },
  {
   "cell_type": "markdown",
   "id": "61de0a44",
   "metadata": {},
   "source": [
    "## Dataset"
   ]
  },
  {
   "cell_type": "markdown",
   "id": "e4c38c0d",
   "metadata": {},
   "source": [
    "Using Housing Price Data for this test. This dataset has 3 Group of City. City 1, City 2, City 3 with Price Columns."
   ]
  },
  {
   "cell_type": "markdown",
   "id": "57923f15",
   "metadata": {},
   "source": [
    "### Generating Dataset Code"
   ]
  },
  {
   "cell_type": "code",
   "execution_count": null,
   "id": "b62bb240",
   "metadata": {},
   "outputs": [],
   "source": [
    "# import numpy as np\n",
    "# import pandas as pd\n",
    "\n",
    "# # Set random seed for reproducibility\n",
    "# np.random.seed(42)\n",
    "\n",
    "# # Generate synthetic house price data for three different cities\n",
    "# city_1_prices = np.random.normal(loc=300000, scale=50000, size=150)  # City 1\n",
    "# city_2_prices = np.random.normal(loc=350000, scale=60000, size=150)  # City 2\n",
    "# city_3_prices = np.random.normal(loc=400000, scale=70000, size=150)  # City 3\n",
    "\n",
    "# # Combine data into a DataFrame\n",
    "# house_price_data = pd.DataFrame({\n",
    "#     'City': ['City 1'] * 150 + ['City 2'] * 150 + ['City 3'] * 150,\n",
    "#     'Price': np.concatenate([city_1_prices, city_2_prices, city_3_prices])\n",
    "# })\n",
    "\n",
    "# house_price_data.to_csv('C:/Github Repository/Advanced-Statistical-Methods-for-AB-and-Hypothesis-Testing-Methods-of-Experimentations/datasets/Levenes Test/house_price_data.csv', index=False)\n",
    "\n",
    "# # Display the first few rows of the dataset\n",
    "# house_price_data.head()"
   ]
  },
  {
   "cell_type": "markdown",
   "id": "8d82d6d6",
   "metadata": {},
   "source": [
    "### Loading the dataset"
   ]
  },
  {
   "cell_type": "code",
   "execution_count": 25,
   "id": "c612e271",
   "metadata": {},
   "outputs": [
    {
     "data": {
      "text/html": [
       "<div>\n",
       "<style scoped>\n",
       "    .dataframe tbody tr th:only-of-type {\n",
       "        vertical-align: middle;\n",
       "    }\n",
       "\n",
       "    .dataframe tbody tr th {\n",
       "        vertical-align: top;\n",
       "    }\n",
       "\n",
       "    .dataframe thead th {\n",
       "        text-align: right;\n",
       "    }\n",
       "</style>\n",
       "<table border=\"1\" class=\"dataframe\">\n",
       "  <thead>\n",
       "    <tr style=\"text-align: right;\">\n",
       "      <th></th>\n",
       "      <th>City</th>\n",
       "      <th>Price</th>\n",
       "    </tr>\n",
       "  </thead>\n",
       "  <tbody>\n",
       "    <tr>\n",
       "      <th>0</th>\n",
       "      <td>City 1</td>\n",
       "      <td>324835.707651</td>\n",
       "    </tr>\n",
       "    <tr>\n",
       "      <th>1</th>\n",
       "      <td>City 1</td>\n",
       "      <td>293086.784941</td>\n",
       "    </tr>\n",
       "    <tr>\n",
       "      <th>2</th>\n",
       "      <td>City 1</td>\n",
       "      <td>332384.426905</td>\n",
       "    </tr>\n",
       "    <tr>\n",
       "      <th>3</th>\n",
       "      <td>City 1</td>\n",
       "      <td>376151.492820</td>\n",
       "    </tr>\n",
       "    <tr>\n",
       "      <th>4</th>\n",
       "      <td>City 1</td>\n",
       "      <td>288292.331264</td>\n",
       "    </tr>\n",
       "  </tbody>\n",
       "</table>\n",
       "</div>"
      ],
      "text/plain": [
       "     City          Price\n",
       "0  City 1  324835.707651\n",
       "1  City 1  293086.784941\n",
       "2  City 1  332384.426905\n",
       "3  City 1  376151.492820\n",
       "4  City 1  288292.331264"
      ]
     },
     "execution_count": 25,
     "metadata": {},
     "output_type": "execute_result"
    }
   ],
   "source": [
    "import pandas as pd\n",
    "\n",
    "data = pd.read_csv('C:/Github Repository/Advanced-Statistical-Methods-for-AB-and-Hypothesis-Testing-Methods-of-Experimentations/datasets/Levenes Test/house_price_data.csv')\n",
    "data.head()"
   ]
  },
  {
   "cell_type": "markdown",
   "id": "44e9e7de",
   "metadata": {},
   "source": [
    "## Visualize the data using a boxplot"
   ]
  },
  {
   "cell_type": "code",
   "execution_count": 32,
   "id": "efbb26ed",
   "metadata": {},
   "outputs": [
    {
     "data": {
      "text/plain": [
       "<Figure size 800x600 with 0 Axes>"
      ]
     },
     "metadata": {},
     "output_type": "display_data"
    },
    {
     "data": {
      "image/png": "[encoded data removed]",
      "text/plain": [
       "<Figure size 640x480 with 1 Axes>"
      ]
     },
     "metadata": {},
     "output_type": "display_data"
    }
   ],
   "source": [
    "import matplotlib.pyplot as plt\n",
    "import seaborn as sns\n",
    "\n",
    "plt.figure(figsize=(8, 6))\n",
    "data.boxplot(by='City', column='Price')\n",
    "plt.title(\"Boxplot of House Prices by City\")\n",
    "plt.suptitle('')\n",
    "plt.ylabel(\"House Price\")\n",
    "plt.show()"
   ]
  },
  {
   "cell_type": "markdown",
   "id": "07bd497e",
   "metadata": {},
   "source": [
    "## Shapiro-Wilk Test"
   ]
  },
  {
   "cell_type": "code",
   "execution_count": 29,
   "id": "88404dbb",
   "metadata": {},
   "outputs": [
    {
     "name": "stdout",
     "output_type": "stream",
     "text": [
      "City 1 - W: 0.9958, p-value: 0.9480\n",
      "The data is normally distributed.\n",
      "\n",
      "City 2 - W: 0.9854, p-value: 0.1150\n",
      "The data is normally distributed.\n",
      "\n",
      "City 3 - W: 0.9930, p-value: 0.6759\n",
      "The data is normally distributed.\n",
      "\n"
     ]
    }
   ],
   "source": [
    "from scipy import stats\n",
    "\n",
    "shapiro_results = {}\n",
    "for city in data['City'].unique():\n",
    "    city_prices = data[data['City'] == city]['Price']\n",
    "    shapiro_results[city] = stats.shapiro(city_prices)\n",
    "    print(f\"{city} - W: {shapiro_results[city][0]:.4f}, p-value: {shapiro_results[city][1]:.4f}\")\n",
    "    if shapiro_results[city][1] < 0.05:\n",
    "        print(\"The data is not normally distributed.\\n\")\n",
    "    else:\n",
    "        print(\"The data is normally distributed.\\n\")"
   ]
  },
  {
   "cell_type": "markdown",
   "id": "752a26f5",
   "metadata": {},
   "source": [
    "**Shapiro-Wilk Test (Normality Check):**\n",
    "\n",
    "- **City 1:** The p-value is 0.9480, which is greater than 0.05, indicating that the data is normally distributed.\n",
    "\n",
    "- **City 2:** The p-value is 0.1150, which is greater than 0.05, indicating that the data is normally distributed.\n",
    "\n",
    "- **City 3:** The p-value is 0.6759, which is greater than 0.05, indicating that the data is normally distributed."
   ]
  },
  {
   "cell_type": "markdown",
   "id": "36a05a8b",
   "metadata": {},
   "source": [
    "## Levene's Test for Equality of Variance"
   ]
  },
  {
   "cell_type": "code",
   "execution_count": 30,
   "id": "93cf363c",
   "metadata": {},
   "outputs": [],
   "source": [
    "city_1_prices = data[data['City'] == 'City 1']['Price']\n",
    "city_2_prices = data[data['City'] == 'City 2']['Price']\n",
    "city_3_prices = data[data['City'] == 'City 3']['Price']"
   ]
  },
  {
   "cell_type": "code",
   "execution_count": 31,
   "id": "1f28f294",
   "metadata": {},
   "outputs": [
    {
     "name": "stdout",
     "output_type": "stream",
     "text": [
      "Levene's Test statistic: 7.6098, p-value: 0.0006\n"
     ]
    }
   ],
   "source": [
    "levene_stat, levene_p_value = stats.levene(city_1_prices, city_2_prices, city_3_prices)\n",
    "print(f\"Levene's Test statistic: {levene_stat:.4f}, p-value: {levene_p_value:.4f}\")"
   ]
  },
  {
   "cell_type": "markdown",
   "id": "0db8ce2d",
   "metadata": {},
   "source": [
    "**The p-value is 0.0006, which is less than 0.05. This indicates that the variances of house prices across the three cities are significantly different.**"
   ]
  }
 ],
 "metadata": {
  "kernelspec": {
   "display_name": "venv",
   "language": "python",
   "name": "python3"
  },
  "language_info": {
   "codemirror_mode": {
    "name": "ipython",
    "version": 3
   },
   "file_extension": ".py",
   "mimetype": "text/x-python",
   "name": "python",
   "nbconvert_exporter": "python",
   "pygments_lexer": "ipython3",
   "version": "3.13.2"
  }
 },
 "nbformat": 4,
 "nbformat_minor": 5
}
