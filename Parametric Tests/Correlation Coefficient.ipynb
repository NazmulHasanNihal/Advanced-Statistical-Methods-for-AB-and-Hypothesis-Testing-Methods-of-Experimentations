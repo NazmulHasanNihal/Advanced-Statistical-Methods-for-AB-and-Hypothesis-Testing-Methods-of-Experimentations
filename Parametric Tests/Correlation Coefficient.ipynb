{
 "cells": [
  {
   "cell_type": "markdown",
   "id": "0f77cd98",
   "metadata": {},
   "source": [
    "# **Correlation Coefficient Test**"
   ]
  },
  {
   "cell_type": "markdown",
   "id": "a0a7354d",
   "metadata": {},
   "source": [
    " Correlation Coefficient is a statistical measure that expresses the extent to which two variables are linearly related. it shows the strength and direction of the relationship between two variables. The most common correlation coefficient is the Pearson correlation coefficient.\n",
    "\n",
    " **Why and When do we use it ?**\n",
    "\n",
    " - **Identifying Relationships:** It helps to understand if and how strongly two variables are related.\n",
    "\n",
    " - **Prediction:** It is used in predictive analytics, especially for regression models, where understanding relationships between variables can help predict outcomes.\n",
    "\n",
    " - **Decision Making:** In business, economics, or science, knowing the strength and direction of relationships between variables can guide decision-making.\n",
    "\n",
    " - when to determine if there is a linear relationship between two continuous variables.\n",
    " \n",
    " - When to measure the strength and direction of the relationship.\n",
    " - When the data is approximately normally distributed (for Pearson correlation).\n",
    "\n",
    " **Example Use:**\n",
    "- **Economics:** Studying the relationship between income and education level.\n",
    "\n",
    "- **Health:** Investigating the correlation between age and blood pressure.\n",
    "\n",
    "- **Sales:** Analyzing the relationship between advertising spending and sales performance.\n"
   ]
  },
  {
   "cell_type": "markdown",
   "id": "e976ebea",
   "metadata": {},
   "source": [
    "## Dataset"
   ]
  },
  {
   "cell_type": "markdown",
   "id": "4a33af72",
   "metadata": {},
   "source": [
    "### Generating Dataset Code"
   ]
  },
  {
   "cell_type": "code",
   "execution_count": 197,
   "id": "666acedb",
   "metadata": {},
   "outputs": [],
   "source": [
    "import numpy as np\n",
    "import pandas as pd\n",
    "import matplotlib.pyplot as plt\n",
    "\n",
    "np.random.seed(42)\n",
    "\n",
    "n = 100\n",
    "\n",
    "X = np.random.normal(50, 10, n)  \n",
    "\n",
    "noise = np.random.normal(0, 5, n)  \n",
    "Y = X + noise  \n",
    "\n",
    "data = pd.DataFrame({'X': X, 'Y': Y})\n",
    "\n",
    "data.to_csv('C:/Github Repository/Advanced-Statistical-Methods-for-AB-and-Hypothesis-Testing-Methods-of-Experimentations/datasets/Correlation Coefficient/correlation.csv', index=False)"
   ]
  },
  {
   "cell_type": "markdown",
   "id": "9ad1ebe1",
   "metadata": {},
   "source": [
    "### Loading Dataset"
   ]
  },
  {
   "cell_type": "code",
   "execution_count": 198,
   "id": "5e0fa380",
   "metadata": {},
   "outputs": [],
   "source": [
    "import pandas as pd\n",
    "\n",
    "data = pd.read_csv('C:/Github Repository/Advanced-Statistical-Methods-for-AB-and-Hypothesis-Testing-Methods-of-Experimentations/datasets/Correlation Coefficient/correlation.csv')"
   ]
  },
  {
   "cell_type": "code",
   "execution_count": 199,
   "id": "64c3052e",
   "metadata": {},
   "outputs": [
    {
     "data": {
      "text/html": [
       "<div>\n",
       "<style scoped>\n",
       "    .dataframe tbody tr th:only-of-type {\n",
       "        vertical-align: middle;\n",
       "    }\n",
       "\n",
       "    .dataframe tbody tr th {\n",
       "        vertical-align: top;\n",
       "    }\n",
       "\n",
       "    .dataframe thead th {\n",
       "        text-align: right;\n",
       "    }\n",
       "</style>\n",
       "<table border=\"1\" class=\"dataframe\">\n",
       "  <thead>\n",
       "    <tr style=\"text-align: right;\">\n",
       "      <th></th>\n",
       "      <th>X</th>\n",
       "      <th>Y</th>\n",
       "    </tr>\n",
       "  </thead>\n",
       "  <tbody>\n",
       "    <tr>\n",
       "      <th>0</th>\n",
       "      <td>54.967142</td>\n",
       "      <td>47.890288</td>\n",
       "    </tr>\n",
       "    <tr>\n",
       "      <th>1</th>\n",
       "      <td>48.617357</td>\n",
       "      <td>46.514130</td>\n",
       "    </tr>\n",
       "    <tr>\n",
       "      <th>2</th>\n",
       "      <td>56.476885</td>\n",
       "      <td>54.763313</td>\n",
       "    </tr>\n",
       "    <tr>\n",
       "      <th>3</th>\n",
       "      <td>65.230299</td>\n",
       "      <td>61.218912</td>\n",
       "    </tr>\n",
       "    <tr>\n",
       "      <th>4</th>\n",
       "      <td>47.658466</td>\n",
       "      <td>46.852038</td>\n",
       "    </tr>\n",
       "  </tbody>\n",
       "</table>\n",
       "</div>"
      ],
      "text/plain": [
       "           X          Y\n",
       "0  54.967142  47.890288\n",
       "1  48.617357  46.514130\n",
       "2  56.476885  54.763313\n",
       "3  65.230299  61.218912\n",
       "4  47.658466  46.852038"
      ]
     },
     "execution_count": 199,
     "metadata": {},
     "output_type": "execute_result"
    }
   ],
   "source": [
    "data.head()"
   ]
  },
  {
   "cell_type": "markdown",
   "id": "4b16d1d0",
   "metadata": {},
   "source": [
    "### Visualizing Dataset"
   ]
  },
  {
   "cell_type": "code",
   "execution_count": 200,
   "id": "f4d48131",
   "metadata": {},
   "outputs": [
    {
     "data": {
      "image/png": "[encoded data removed]",
      "text/plain": [
       "<Figure size 640x480 with 1 Axes>"
      ]
     },
     "metadata": {},
     "output_type": "display_data"
    }
   ],
   "source": [
    "import matplotlib.pyplot as plt\n",
    "\n",
    "plt.scatter(data['X'], data['Y'], color='b', alpha=0.5)\n",
    "plt.xlabel('X (Independent Variable)')\n",
    "plt.ylabel('Y (Dependent Variable)')\n",
    "plt.title('Scatter plot of X and Y')\n",
    "plt.show()"
   ]
  },
  {
   "cell_type": "markdown",
   "id": "fce6ee09",
   "metadata": {},
   "source": [
    "## Shapiro-Wilk Test"
   ]
  },
  {
   "cell_type": "code",
   "execution_count": 201,
   "id": "cdcb1e2a",
   "metadata": {},
   "outputs": [
    {
     "name": "stdout",
     "output_type": "stream",
     "text": [
      "Shapiro-Wilk Test for X: Statistic = 0.9899, p-value = 0.6552\n",
      "Shapiro-Wilk Test for Y: Statistic = 0.9906, p-value = 0.7143\n",
      "X is normally distributed (fail to reject the null hypothesis).\n",
      "Y is normally distributed (fail to reject the null hypothesis).\n"
     ]
    }
   ],
   "source": [
    "from scipy import stats\n",
    "\n",
    "stat_x, p_value_x = stats.shapiro(data['X'])\n",
    "stat_y, p_value_y = stats.shapiro(data['Y'])\n",
    "\n",
    "print(f\"Shapiro-Wilk Test for X: Statistic = {stat_x:.4f}, p-value = {p_value_x:.4f}\")\n",
    "print(f\"Shapiro-Wilk Test for Y: Statistic = {stat_y:.4f}, p-value = {p_value_y:.4f}\")\n",
    "\n",
    "# Interpret the results\n",
    "if p_value_x < 0.05:\n",
    "    print(\"X is not normally distributed (reject the null hypothesis).\")\n",
    "else:\n",
    "    print(\"X is normally distributed (fail to reject the null hypothesis).\")\n",
    "\n",
    "if p_value_y < 0.05:\n",
    "    print(\"Y is not normally distributed (reject the null hypothesis).\")\n",
    "else:\n",
    "    print(\"Y is normally distributed (fail to reject the null hypothesis).\")"
   ]
  },
  {
   "cell_type": "code",
   "execution_count": 202,
   "id": "670a24d0",
   "metadata": {},
   "outputs": [
    {
     "data": {
      "image/png": "[encoded data removed]",
      "text/plain": [
       "<Figure size 640x480 with 1 Axes>"
      ]
     },
     "metadata": {},
     "output_type": "display_data"
    },
    {
     "data": {
      "image/png": "[encoded data removed]",
      "text/plain": [
       "<Figure size 640x480 with 1 Axes>"
      ]
     },
     "metadata": {},
     "output_type": "display_data"
    }
   ],
   "source": [
    "# Check for normality using a histogram\n",
    "data['X'].hist(alpha=0.9, color='red', bins=20)\n",
    "plt.title('Histogram of X')\n",
    "plt.show()\n",
    "\n",
    "data['Y'].hist(alpha=0.9, color='green', bins=20)\n",
    "plt.title('Histogram of Y')\n",
    "plt.show()\n"
   ]
  },
  {
   "cell_type": "markdown",
   "id": "6433ccf1",
   "metadata": {},
   "source": [
    "**Assumptions:**\n",
    "- Both X and Y Variable Both Are Normally Distributed\n"
   ]
  },
  {
   "cell_type": "markdown",
   "id": "997010ce",
   "metadata": {},
   "source": [
    "## Correlation Coefficient"
   ]
  },
  {
   "cell_type": "code",
   "execution_count": 203,
   "id": "58a7cb4a",
   "metadata": {},
   "outputs": [
    {
     "name": "stdout",
     "output_type": "stream",
     "text": [
      "          X         Y\n",
      "X  1.000000  0.872404\n",
      "Y  0.872404  1.000000\n",
      "Correlation Coefficient between X and Y: 0.8724042787137856\n"
     ]
    }
   ],
   "source": [
    "correlation = data.corr()\n",
    "\n",
    "print(correlation)\n",
    "\n",
    "print(f\"Correlation Coefficient between X and Y: {correlation.loc['X', 'Y']}\")"
   ]
  },
  {
   "cell_type": "code",
   "execution_count": 204,
   "id": "5fb6b013",
   "metadata": {},
   "outputs": [
    {
     "name": "stdout",
     "output_type": "stream",
     "text": [
      "Pearson Correlation: r=0.8724, p-value=0.0000\n"
     ]
    }
   ],
   "source": [
    "from scipy.stats import pearsonr\n",
    "corr, p_val = pearsonr(data['X'], data['Y'])\n",
    "print(f\"Pearson Correlation: r={corr:.4f}, p-value={p_val:.4f}\")"
   ]
  },
  {
   "cell_type": "markdown",
   "id": "b3c1c750",
   "metadata": {},
   "source": [
    "**Since p < 0.05, we reject the null hypothesis at the 5% level of significance. Therefore, we may conclude that the correlation coefficient between X and Y is statistically significant, indicating a strong positive linear relationship between the two variables.**"
   ]
  }
 ],
 "metadata": {
  "kernelspec": {
   "display_name": "venv",
   "language": "python",
   "name": "python3"
  },
  "language_info": {
   "codemirror_mode": {
    "name": "ipython",
    "version": 3
   },
   "file_extension": ".py",
   "mimetype": "text/x-python",
   "name": "python",
   "nbconvert_exporter": "python",
   "pygments_lexer": "ipython3",
   "version": "3.13.2"
  }
 },
 "nbformat": 4,
 "nbformat_minor": 5
}
